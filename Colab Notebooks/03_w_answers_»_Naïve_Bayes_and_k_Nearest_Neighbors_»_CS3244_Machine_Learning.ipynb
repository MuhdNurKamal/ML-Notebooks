{
  "nbformat": 4,
  "nbformat_minor": 0,
  "metadata": {
    "colab": {
      "name": "W/ ANSWERS » ARCHIVAL 03 » Naïve Bayes and k Nearest Neighbors » CS3244 Machine Learning",
      "provenance": [],
      "collapsed_sections": []
    },
    "kernelspec": {
      "name": "python3",
      "display_name": "Python 3"
    }
  },
  "cells": [
    {
      "cell_type": "markdown",
      "metadata": {
        "id": "JQVTjg9vMS-M",
        "colab_type": "text"
      },
      "source": [
        "$\\color{red}{\\mathrm{Dear\\ Learner,}}$\n",
        "\n",
        "$\\color{red}{\\mathrm{This\\ is\\ the\\ archival\\ version\\  of\\ the\\ original\\ notebook\\ authored\\ at\\ NUS}}$\n",
        "\n",
        "$\\color{red}{\\mathrm{This\\ has\\ been\\ provided\\ to\\ you\\ with\\ programming\\ answers\\ for\\ your\\ individual\\ reference\\ and\\ review }}$\n",
        "\n",
        "$\\color{red}{\\mathrm{Please\\ do\\ not\\ repost\\ to\\ any\\ public\\ sites\\ so\\ that\\ future\\ students\\ can\\ avoid\\ gratuitous\\ copying\\ and\\ can\\ benefit\\ from\\ the\\ challenge\\ of\\ learning}}$\n",
        "\n",
        "Available at http://www.comp.nus.edu.sg/~cs3244/1910/03.colab"
      ]
    },
    {
      "cell_type": "markdown",
      "metadata": {
        "id": "uvf81x6Vrysn",
        "colab_type": "text"
      },
      "source": [
        "![Machine Learning](https://www.comp.nus.edu.sg/~cs3244/1910/img/banner-1910.png)\n",
        "---\n",
        "See **Credits** below for acknowledgements and rights.  For NUS class credit, you'll need to do the corresponding _Assessment_ in [CS3244 in Coursemology](http://coursemology.org/courses/1677) by the respective deadline (as in Coursemology). \n",
        "\n",
        "**You must acknowledge that your submitted Assessment is your independent work, see questions in the Assessment at the end.**\n"
      ]
    },
    {
      "cell_type": "markdown",
      "metadata": {
        "id": "C7uUlXwCuvLY",
        "colab_type": "text"
      },
      "source": [
        "**Learning Outcomes for Week 03**\n",
        "\n",
        "After finishing the in-class exercises and post-class videos, you should be able to:\n",
        "* Naïve Bayes and $k$-NN\n",
        "    * Understand Bayes' Rule and its application to Naïve Bayes;\n",
        "    * Understand distance metrics and its application to $k$ Nearest Neighbors;\n",
        "    * Implement both Naïve Bayes and $k$ Nearest Neighbors learning algorithms in pseudocode;\n",
        "    * Know the training and testing times for both of the above algorithms;\n",
        "* Scaling and Normalization\n",
        "    * Understand the concept of normalization\n",
        "    * Explore examples to understand the impact of normalization in training a model\n",
        "* Basic concepts\n",
        "    * Understand the concept of Cost Function\n",
        "    * Using different cost function in different problem\n",
        "    * Understand concept of Noisy Targets\n",
        "    \n"
      ]
    },
    {
      "cell_type": "markdown",
      "metadata": {
        "id": "Mp8PSN6lkefK",
        "colab_type": "text"
      },
      "source": [
        "_Welcome to the Week 03 Python notebook._ This week we will start learning algorithms and learn how to apply them.  We introduce **Naïve Bayes** and $k$**-Nearest Neighbors** in the lecture videos, and will be reviewing this material in the second tutorial, which will combine both this week (Week 03) and Week 02's material.  \n",
        "\n",
        "In this notebook, we will go through different programming exercise in the Pre-tutorial part and some more programming and basic concepts in the Post-tutorial part. In the Pre-tutorial, the programming exercises involve using Naïve Bayes and $k$-NN from SciKit Learn (a cornerstone traditional ML toolkit, or `sklearn`) and we will implement Naïve Bayes from scratch in the later part."
      ]
    },
    {
      "cell_type": "markdown",
      "metadata": {
        "id": "qpplIQvF4D1g",
        "colab_type": "text"
      },
      "source": [
        "---\n",
        "# Week 03: Pre-Tutorial Work\n",
        "\n",
        "* Watch the CS 3244 video playlist for Week 03 Pre.  This will introduce the two ML algorithms for this week's class: _Naïve Bayes_ and $k$ _Nearest Neighbors_.\n",
        "* After watching the videos, complete the pre-tutorial exercises and questions below."
      ]
    },
    {
      "cell_type": "markdown",
      "metadata": {
        "id": "x4QLCN-5aLc-",
        "colab_type": "text"
      },
      "source": [
        "**Your Turn (Question 1)**: What is the key limitation of the Naïve Bayes classifier?\n",
        "\n",
        "Choose from: _Slow training time, Needs moderate or large amounts of training data, Classification is often inaccurate, Input features should be conditionally independent_"
      ]
    },
    {
      "cell_type": "markdown",
      "metadata": {
        "id": "k9Fboie8bNxF",
        "colab_type": "text"
      },
      "source": [
        "**Your Turn (Question 2)**: What is the time complexity to train a `k` Nearest Neighbor model? (Recall `m` is the # of training instances, `n` is the # of features per instance.)\n",
        "\n",
        "Choose from: _O(1), O(ln m), O(m), O(n), O(mn)_"
      ]
    },
    {
      "cell_type": "markdown",
      "metadata": {
        "id": "v-8_GbNcdn8l",
        "colab_type": "text"
      },
      "source": [
        "## 1 Programming : $k$-NN and Naïve Bayes from `sklearn`"
      ]
    },
    {
      "cell_type": "markdown",
      "metadata": {
        "id": "-jVlpyGt2N1D",
        "colab_type": "text"
      },
      "source": [
        "Let's do some hands on to better understand how to use these algorithms.  Here we have the full version that we would like you execute just to be familiar with typical beginning steps with data science paired with the machine learning portion.  In the pre-video, you'll see the summary section farther down (search for \"Summary\").  \n",
        "\n"
      ]
    },
    {
      "cell_type": "markdown",
      "metadata": {
        "id": "4bPqzXTle8NV",
        "colab_type": "text"
      },
      "source": [
        "### .a Loading and Visualizing Input data"
      ]
    },
    {
      "cell_type": "markdown",
      "metadata": {
        "id": "DRZbLJs0e3R4",
        "colab_type": "text"
      },
      "source": [
        "\n",
        "We'll use a dataset from the popular [UCI dataset repository](https://archive.ics.uci.edu/ml/index.php); in particular, the [Wine](https://archive.ics.uci.edu/ml/datasets/Wine) dataset.  These data are the results of a chemical analysis of wines grown in the same region in Italy but derived from three different cultivars. The analysis determined the quantities of 13 constituents found in each of the three types of wines.\n",
        "\n",
        "We'll load in the data for white wines, take a look around and split the data into parts for training the model and testing it.\n",
        "\n"
      ]
    },
    {
      "cell_type": "code",
      "metadata": {
        "id": "WUxRzVcQDN4h",
        "colab_type": "code",
        "colab": {}
      },
      "source": [
        "# Import the standard tools for pythonic data analysis.\n",
        "import numpy as np \n",
        "import pandas as pd \n",
        "\n",
        "# Let's read the data in as a \"data frame\" (df), equivalent to our D = (X,y) data matrix\n",
        "df = pd.read_csv('https://archive.ics.uci.edu/ml/machine-learning-databases/wine-quality/winequality-white.csv',sep=';') # Separate on semicolons"
      ],
      "execution_count": 0,
      "outputs": []
    },
    {
      "cell_type": "markdown",
      "metadata": {
        "id": "spudywtbVoIx",
        "colab_type": "text"
      },
      "source": [
        "We want to predict the quality of the wine from the rest of the features (actually, we can predict any feature from any other feature, there's really no particular distinction between $\\mathbf{x}$ and $y$).  Let's take a look at the distribution for **quality**."
      ]
    },
    {
      "cell_type": "code",
      "metadata": {
        "id": "TpKGlI-q2kNu",
        "colab_type": "code",
        "outputId": "cbf8421f-4657-4788-ee1f-4d6fd1bb5a3d",
        "colab": {
          "base_uri": "https://localhost:8080/",
          "height": 466
        }
      },
      "source": [
        "# Get numeric distributions of our quality output\n",
        "print(\" Number of wines of a particular rating:\")\n",
        "counts = df['quality'].value_counts()\n",
        "print (counts)\n",
        "\n",
        "\n",
        "# Let's do a histogram plot. To do that we need to specify the \n",
        "# y-axis that we want to plot i.e. 'quality', and number of bins\n",
        "df.hist(column = 'quality', bins = len(counts))"
      ],
      "execution_count": 0,
      "outputs": [
        {
          "output_type": "stream",
          "text": [
            " Number of wines of a particular rating:\n",
            "6    2198\n",
            "5    1457\n",
            "7     880\n",
            "8     175\n",
            "4     163\n",
            "3      20\n",
            "9       5\n",
            "Name: quality, dtype: int64\n"
          ],
          "name": "stdout"
        },
        {
          "output_type": "execute_result",
          "data": {
            "text/plain": [
              "array([[<matplotlib.axes._subplots.AxesSubplot object at 0x7fa224ed04a8>]],\n",
              "      dtype=object)"
            ]
          },
          "metadata": {
            "tags": []
          },
          "execution_count": 2
        },
        {
          "output_type": "display_data",
          "data": {
            "image/png": "[encoded data removed]",
            "text/plain": [
              "<Figure size 432x288 with 1 Axes>"
            ]
          },
          "metadata": {
            "tags": []
          }
        }
      ]
    },
    {
      "cell_type": "markdown",
      "metadata": {
        "id": "tQZAEH_1YhBK",
        "colab_type": "text"
      },
      "source": [
        "This looks somewhat normally distributed.  Let's say we care about good wines.  Then we'll just concentrate on differentiating great wines from the rest."
      ]
    },
    {
      "cell_type": "code",
      "metadata": {
        "id": "D2w8nuO5UEaK",
        "colab_type": "code",
        "outputId": "75adea16-4d77-4cf1-cf4b-b8b338dfdac3",
        "colab": {
          "base_uri": "https://localhost:8080/",
          "height": 334
        }
      },
      "source": [
        "# Create a new column called good wine, where the value of the quality is 8 or better.\n",
        "df['good wine'] = np.where(df['quality']>=7, \"Good\", \"Not Good\")\n",
        "\n",
        "# Then remove the quality column (why)\n",
        "df.drop('quality', axis=1, inplace=True)\n",
        "\n",
        "# Partion the features from the class to predict\n",
        "df_X = df[df.columns[df.columns != 'good wine']].copy()\n",
        "df_y = df['good wine'].copy()\n",
        "\n",
        "df['good wine'].value_counts().plot(kind = 'bar', title = 'Distribution of classes')"
      ],
      "execution_count": 0,
      "outputs": [
        {
          "output_type": "execute_result",
          "data": {
            "text/plain": [
              "<matplotlib.axes._subplots.AxesSubplot at 0x7fa22216cac8>"
            ]
          },
          "metadata": {
            "tags": []
          },
          "execution_count": 3
        },
        {
          "output_type": "display_data",
          "data": {
            "image/png": "[encoded data removed]",
            "text/plain": [
              "<Figure size 432x288 with 1 Axes>"
            ]
          },
          "metadata": {
            "tags": []
          }
        }
      ]
    },
    {
      "cell_type": "markdown",
      "metadata": {
        "id": "CNBT1PoAfF2W",
        "colab_type": "text"
      },
      "source": [
        "### .b Split dataset into train and test"
      ]
    },
    {
      "cell_type": "markdown",
      "metadata": {
        "id": "aj7QETSdfUfk",
        "colab_type": "text"
      },
      "source": [
        "Let's split the data into training and testing data sets before we do anything else.   It's important to look only at the training data to develop our intuitions (**why?**) "
      ]
    },
    {
      "cell_type": "code",
      "metadata": {
        "id": "4PfTvBx9cc93",
        "colab_type": "code",
        "outputId": "754e9080-a363-4916-ddf1-abf161c47f34",
        "colab": {
          "base_uri": "https://localhost:8080/",
          "height": 50
        }
      },
      "source": [
        "# Learn how to split test and training data from a whole\n",
        "from sklearn.model_selection import train_test_split\n",
        "\n",
        "# (random_state): we use a fixed random seed so we get the same results every time.\n",
        "X_train, X_test, y_train, y_test = train_test_split(df_X, df_y, test_size=0.2, random_state=0)\n",
        "\n",
        "print (\"Number of training instances: \", len(X_train), \"\\nNumber of test instances: \", len(X_test))"
      ],
      "execution_count": 0,
      "outputs": [
        {
          "output_type": "stream",
          "text": [
            "Number of training instances:  3918 \n",
            "Number of test instances:  980\n"
          ],
          "name": "stdout"
        }
      ]
    },
    {
      "cell_type": "markdown",
      "metadata": {
        "id": "CkivEnUMfJo9",
        "colab_type": "text"
      },
      "source": [
        "Let's peer at the first few rows of the training portion of the dataset.  Understanding the data is **always** important in trying to build any model for prediction.\n",
        "You can check against the description of the dataset which is here: https://archive.ics.uci.edu/ml/machine-learning-databases/wine-quality/winequality.names"
      ]
    },
    {
      "cell_type": "code",
      "metadata": {
        "id": "hpq2chbX7qy_",
        "colab_type": "code",
        "outputId": "ea2dc03c-2578-43df-a07f-3aca1e5a9da9",
        "colab": {
          "base_uri": "https://localhost:8080/",
          "height": 195
        }
      },
      "source": [
        "X_train.head()"
      ],
      "execution_count": 0,
      "outputs": [
        {
          "output_type": "execute_result",
          "data": {
            "text/html": [
              "<div>\n",
              "<style scoped>\n",
              "    .dataframe tbody tr th:only-of-type {\n",
              "        vertical-align: middle;\n",
              "    }\n",
              "\n",
              "    .dataframe tbody tr th {\n",
              "        vertical-align: top;\n",
              "    }\n",
              "\n",
              "    .dataframe thead th {\n",
              "        text-align: right;\n",
              "    }\n",
              "</style>\n",
              "<table border=\"1\" class=\"dataframe\">\n",
              "  <thead>\n",
              "    <tr style=\"text-align: right;\">\n",
              "      <th></th>\n",
              "      <th>fixed acidity</th>\n",
              "      <th>volatile acidity</th>\n",
              "      <th>citric acid</th>\n",
              "      <th>residual sugar</th>\n",
              "      <th>chlorides</th>\n",
              "      <th>free sulfur dioxide</th>\n",
              "      <th>total sulfur dioxide</th>\n",
              "      <th>density</th>\n",
              "      <th>pH</th>\n",
              "      <th>sulphates</th>\n",
              "      <th>alcohol</th>\n",
              "    </tr>\n",
              "  </thead>\n",
              "  <tbody>\n",
              "    <tr>\n",
              "      <th>4685</th>\n",
              "      <td>7.2</td>\n",
              "      <td>0.26</td>\n",
              "      <td>0.32</td>\n",
              "      <td>10.4</td>\n",
              "      <td>0.062</td>\n",
              "      <td>23.0</td>\n",
              "      <td>114.0</td>\n",
              "      <td>0.99660</td>\n",
              "      <td>3.23</td>\n",
              "      <td>0.49</td>\n",
              "      <td>10.5</td>\n",
              "    </tr>\n",
              "    <tr>\n",
              "      <th>4589</th>\n",
              "      <td>5.4</td>\n",
              "      <td>0.29</td>\n",
              "      <td>0.38</td>\n",
              "      <td>1.2</td>\n",
              "      <td>0.029</td>\n",
              "      <td>31.0</td>\n",
              "      <td>132.0</td>\n",
              "      <td>0.98895</td>\n",
              "      <td>3.28</td>\n",
              "      <td>0.36</td>\n",
              "      <td>12.4</td>\n",
              "    </tr>\n",
              "    <tr>\n",
              "      <th>2700</th>\n",
              "      <td>6.5</td>\n",
              "      <td>0.46</td>\n",
              "      <td>0.31</td>\n",
              "      <td>5.0</td>\n",
              "      <td>0.027</td>\n",
              "      <td>15.0</td>\n",
              "      <td>72.0</td>\n",
              "      <td>0.99165</td>\n",
              "      <td>3.26</td>\n",
              "      <td>0.60</td>\n",
              "      <td>11.5</td>\n",
              "    </tr>\n",
              "    <tr>\n",
              "      <th>283</th>\n",
              "      <td>6.7</td>\n",
              "      <td>0.34</td>\n",
              "      <td>0.30</td>\n",
              "      <td>15.6</td>\n",
              "      <td>0.054</td>\n",
              "      <td>51.0</td>\n",
              "      <td>196.0</td>\n",
              "      <td>0.99820</td>\n",
              "      <td>3.19</td>\n",
              "      <td>0.49</td>\n",
              "      <td>9.3</td>\n",
              "    </tr>\n",
              "    <tr>\n",
              "      <th>1014</th>\n",
              "      <td>6.1</td>\n",
              "      <td>0.16</td>\n",
              "      <td>0.27</td>\n",
              "      <td>12.6</td>\n",
              "      <td>0.064</td>\n",
              "      <td>63.0</td>\n",
              "      <td>162.0</td>\n",
              "      <td>0.99940</td>\n",
              "      <td>3.66</td>\n",
              "      <td>0.43</td>\n",
              "      <td>8.9</td>\n",
              "    </tr>\n",
              "  </tbody>\n",
              "</table>\n",
              "</div>"
            ],
            "text/plain": [
              "      fixed acidity  volatile acidity  citric acid  ...    pH  sulphates  alcohol\n",
              "4685            7.2              0.26         0.32  ...  3.23       0.49     10.5\n",
              "4589            5.4              0.29         0.38  ...  3.28       0.36     12.4\n",
              "2700            6.5              0.46         0.31  ...  3.26       0.60     11.5\n",
              "283             6.7              0.34         0.30  ...  3.19       0.49      9.3\n",
              "1014            6.1              0.16         0.27  ...  3.66       0.43      8.9\n",
              "\n",
              "[5 rows x 11 columns]"
            ]
          },
          "metadata": {
            "tags": []
          },
          "execution_count": 5
        }
      ]
    },
    {
      "cell_type": "markdown",
      "metadata": {
        "id": "J2bdjG5tfQ9E",
        "colab_type": "text"
      },
      "source": [
        "We can also take a look at some general statistics."
      ]
    },
    {
      "cell_type": "code",
      "metadata": {
        "id": "v4qCh0AaOL7-",
        "colab_type": "code",
        "outputId": "f0d1b89a-d55f-434e-8f20-6325b4819ea4",
        "colab": {
          "base_uri": "https://localhost:8080/",
          "height": 284
        }
      },
      "source": [
        "X_train.describe()"
      ],
      "execution_count": 0,
      "outputs": [
        {
          "output_type": "execute_result",
          "data": {
            "text/html": [
              "<div>\n",
              "<style scoped>\n",
              "    .dataframe tbody tr th:only-of-type {\n",
              "        vertical-align: middle;\n",
              "    }\n",
              "\n",
              "    .dataframe tbody tr th {\n",
              "        vertical-align: top;\n",
              "    }\n",
              "\n",
              "    .dataframe thead th {\n",
              "        text-align: right;\n",
              "    }\n",
              "</style>\n",
              "<table border=\"1\" class=\"dataframe\">\n",
              "  <thead>\n",
              "    <tr style=\"text-align: right;\">\n",
              "      <th></th>\n",
              "      <th>fixed acidity</th>\n",
              "      <th>volatile acidity</th>\n",
              "      <th>citric acid</th>\n",
              "      <th>residual sugar</th>\n",
              "      <th>chlorides</th>\n",
              "      <th>free sulfur dioxide</th>\n",
              "      <th>total sulfur dioxide</th>\n",
              "      <th>density</th>\n",
              "      <th>pH</th>\n",
              "      <th>sulphates</th>\n",
              "      <th>alcohol</th>\n",
              "    </tr>\n",
              "  </thead>\n",
              "  <tbody>\n",
              "    <tr>\n",
              "      <th>count</th>\n",
              "      <td>3918.000000</td>\n",
              "      <td>3918.000000</td>\n",
              "      <td>3918.000000</td>\n",
              "      <td>3918.000000</td>\n",
              "      <td>3918.000000</td>\n",
              "      <td>3918.000000</td>\n",
              "      <td>3918.000000</td>\n",
              "      <td>3918.000000</td>\n",
              "      <td>3918.000000</td>\n",
              "      <td>3918.000000</td>\n",
              "      <td>3918.000000</td>\n",
              "    </tr>\n",
              "    <tr>\n",
              "      <th>mean</th>\n",
              "      <td>6.853714</td>\n",
              "      <td>0.278401</td>\n",
              "      <td>0.332726</td>\n",
              "      <td>6.366807</td>\n",
              "      <td>0.045862</td>\n",
              "      <td>35.352348</td>\n",
              "      <td>138.448698</td>\n",
              "      <td>0.994005</td>\n",
              "      <td>3.187981</td>\n",
              "      <td>0.490439</td>\n",
              "      <td>10.518579</td>\n",
              "    </tr>\n",
              "    <tr>\n",
              "      <th>std</th>\n",
              "      <td>0.825378</td>\n",
              "      <td>0.100316</td>\n",
              "      <td>0.119874</td>\n",
              "      <td>4.994107</td>\n",
              "      <td>0.022008</td>\n",
              "      <td>16.885968</td>\n",
              "      <td>42.228313</td>\n",
              "      <td>0.002932</td>\n",
              "      <td>0.150777</td>\n",
              "      <td>0.115614</td>\n",
              "      <td>1.233287</td>\n",
              "    </tr>\n",
              "    <tr>\n",
              "      <th>min</th>\n",
              "      <td>3.800000</td>\n",
              "      <td>0.080000</td>\n",
              "      <td>0.000000</td>\n",
              "      <td>0.600000</td>\n",
              "      <td>0.009000</td>\n",
              "      <td>2.000000</td>\n",
              "      <td>9.000000</td>\n",
              "      <td>0.987110</td>\n",
              "      <td>2.740000</td>\n",
              "      <td>0.220000</td>\n",
              "      <td>8.000000</td>\n",
              "    </tr>\n",
              "    <tr>\n",
              "      <th>25%</th>\n",
              "      <td>6.300000</td>\n",
              "      <td>0.210000</td>\n",
              "      <td>0.270000</td>\n",
              "      <td>1.700000</td>\n",
              "      <td>0.036000</td>\n",
              "      <td>23.000000</td>\n",
              "      <td>109.000000</td>\n",
              "      <td>0.991700</td>\n",
              "      <td>3.090000</td>\n",
              "      <td>0.410000</td>\n",
              "      <td>9.500000</td>\n",
              "    </tr>\n",
              "    <tr>\n",
              "      <th>50%</th>\n",
              "      <td>6.800000</td>\n",
              "      <td>0.260000</td>\n",
              "      <td>0.315000</td>\n",
              "      <td>5.200000</td>\n",
              "      <td>0.043000</td>\n",
              "      <td>34.000000</td>\n",
              "      <td>134.000000</td>\n",
              "      <td>0.993715</td>\n",
              "      <td>3.180000</td>\n",
              "      <td>0.470000</td>\n",
              "      <td>10.400000</td>\n",
              "    </tr>\n",
              "    <tr>\n",
              "      <th>75%</th>\n",
              "      <td>7.300000</td>\n",
              "      <td>0.320000</td>\n",
              "      <td>0.380000</td>\n",
              "      <td>9.800000</td>\n",
              "      <td>0.050000</td>\n",
              "      <td>46.000000</td>\n",
              "      <td>167.000000</td>\n",
              "      <td>0.996100</td>\n",
              "      <td>3.280000</td>\n",
              "      <td>0.550000</td>\n",
              "      <td>11.400000</td>\n",
              "    </tr>\n",
              "    <tr>\n",
              "      <th>max</th>\n",
              "      <td>11.800000</td>\n",
              "      <td>1.100000</td>\n",
              "      <td>1.660000</td>\n",
              "      <td>31.600000</td>\n",
              "      <td>0.346000</td>\n",
              "      <td>289.000000</td>\n",
              "      <td>440.000000</td>\n",
              "      <td>1.010300</td>\n",
              "      <td>3.810000</td>\n",
              "      <td>1.080000</td>\n",
              "      <td>14.200000</td>\n",
              "    </tr>\n",
              "  </tbody>\n",
              "</table>\n",
              "</div>"
            ],
            "text/plain": [
              "       fixed acidity  volatile acidity  ...    sulphates      alcohol\n",
              "count    3918.000000       3918.000000  ...  3918.000000  3918.000000\n",
              "mean        6.853714          0.278401  ...     0.490439    10.518579\n",
              "std         0.825378          0.100316  ...     0.115614     1.233287\n",
              "min         3.800000          0.080000  ...     0.220000     8.000000\n",
              "25%         6.300000          0.210000  ...     0.410000     9.500000\n",
              "50%         6.800000          0.260000  ...     0.470000    10.400000\n",
              "75%         7.300000          0.320000  ...     0.550000    11.400000\n",
              "max        11.800000          1.100000  ...     1.080000    14.200000\n",
              "\n",
              "[8 rows x 11 columns]"
            ]
          },
          "metadata": {
            "tags": []
          },
          "execution_count": 6
        }
      ]
    },
    {
      "cell_type": "markdown",
      "metadata": {
        "id": "ciiWW9q7fL1S",
        "colab_type": "text"
      },
      "source": [
        "### .c Correlation between different features"
      ]
    },
    {
      "cell_type": "code",
      "metadata": {
        "id": "ogxQMfHIHnaP",
        "colab_type": "code",
        "colab": {}
      },
      "source": [
        ""
      ],
      "execution_count": 0,
      "outputs": []
    },
    {
      "cell_type": "markdown",
      "metadata": {
        "id": "pzgcJnhbP3p4",
        "colab_type": "text"
      },
      "source": [
        "Nothing looks particularly out of place (e.g. no negative values in $pH$). Interestingly, no wines scored below a $3$ or above a $9$ (no perfect $10/10$ scores).  Next, let's check how the features are correlated."
      ]
    },
    {
      "cell_type": "code",
      "metadata": {
        "id": "S-rsHsQHQNMQ",
        "colab_type": "code",
        "outputId": "c88b1a0d-a1e1-4149-8f2d-a40da5719eeb",
        "colab": {
          "base_uri": "https://localhost:8080/",
          "height": 692
        }
      },
      "source": [
        "# We'll need a few other libraries to do these exercises\n",
        "import matplotlib.pyplot as plt \n",
        "import seaborn as sns\n",
        "%matplotlib inline\n",
        "plt.subplots(figsize=(10,10))\n",
        "ax = plt.axes()\n",
        "ax.set_title(\"White Wine Characteristic Correlation Heatmap\")\n",
        "# Generating a correlation heatmap\n",
        "corr = X_train.corr()\n",
        "sns.heatmap(corr, \n",
        "            xticklabels=corr.columns.values,\n",
        "            yticklabels=corr.columns.values,\n",
        "            annot=True, \n",
        "           cmap=\"coolwarm\")\n",
        "plt.show()"
      ],
      "execution_count": 0,
      "outputs": [
        {
          "output_type": "display_data",
          "data": {
            "image/png": "[encoded data removed]",
            "text/plain": [
              "<Figure size 720x720 with 2 Axes>"
            ]
          },
          "metadata": {
            "tags": []
          }
        }
      ]
    },
    {
      "cell_type": "markdown",
      "metadata": {
        "id": "brvBYd1GDOM_",
        "colab_type": "text"
      },
      "source": [
        "Most of these features aren't highly correlated with each other, with particular exceptions of _density_ vs. _residual sugar_ (positive) and _density_ vs. _alcohol_ (negatively correlated).  Good.  "
      ]
    },
    {
      "cell_type": "markdown",
      "metadata": {
        "id": "Sxii0kCsfbgZ",
        "colab_type": "text"
      },
      "source": [
        "### .d Train and Test the models"
      ]
    },
    {
      "cell_type": "markdown",
      "metadata": {
        "id": "OVHnZ5oHukih",
        "colab_type": "text"
      },
      "source": [
        "\n",
        "Actually all of the above was just preparation.  Let's try fitting the dataset on both Naïve Bayes and $k$ - NN.  \n",
        "\n",
        "\n"
      ]
    },
    {
      "cell_type": "code",
      "metadata": {
        "id": "POeAjALviNR9",
        "colab_type": "code",
        "outputId": "0f557fa6-d129-48be-99ff-fc65b839ecf2",
        "colab": {
          "base_uri": "https://localhost:8080/",
          "height": 50
        }
      },
      "source": [
        "# Get the machine learning algorithm k-NN\n",
        "from sklearn import neighbors\n",
        "\n",
        "knn = neighbors.KNeighborsClassifier(n_neighbors = 1)\n",
        "knn_model = knn.fit(X_train, y_train)\n",
        "print('NN accuracy for train set: %f' % knn_model.score(X_train, y_train))\n",
        "print('NN accuracy for test set: %f' % knn_model.score(X_test, y_test))"
      ],
      "execution_count": 0,
      "outputs": [
        {
          "output_type": "stream",
          "text": [
            "NN accuracy for train set: 1.000000\n",
            "NN accuracy for test set: 0.802041\n"
          ],
          "name": "stdout"
        }
      ]
    },
    {
      "cell_type": "code",
      "metadata": {
        "id": "8VWYdKKkj2f0",
        "colab_type": "code",
        "outputId": "bb5e7b5c-b4bd-4c99-dca8-b55071deb0c5",
        "colab": {
          "base_uri": "https://localhost:8080/",
          "height": 50
        }
      },
      "source": [
        "# Get the machine learning algorithm Naïve Bayes\n",
        "from sklearn.naive_bayes import GaussianNB\n",
        "\n",
        "nb = GaussianNB()\n",
        "nb_model = nb.fit(X_train,y_train)\n",
        "print('Naïve Bayes accuracy for train set: %f' % nb_model.score(X_train, y_train))\n",
        "print('Naïve Bayes accuracy for test set: %f' % nb_model.score(X_test, y_test))"
      ],
      "execution_count": 0,
      "outputs": [
        {
          "output_type": "stream",
          "text": [
            "Naïve Bayes accuracy for train set: 0.727667\n",
            "Naïve Bayes accuracy for test set: 0.740816\n"
          ],
          "name": "stdout"
        }
      ]
    },
    {
      "cell_type": "markdown",
      "metadata": {
        "id": "jnuvC5oNDSEb",
        "colab_type": "text"
      },
      "source": [
        "After running these experiments you should have been able to get about 80% accuracy (on test set) for the nearest neighbor code and about 74% accuracy (on test set) using the Naïve Bayes algorithm.  "
      ]
    },
    {
      "cell_type": "markdown",
      "metadata": {
        "id": "JBpLKfxyLRVZ",
        "colab_type": "text"
      },
      "source": [
        "### .e Summary"
      ]
    },
    {
      "cell_type": "markdown",
      "metadata": {
        "id": "b--5r45XVhZo",
        "colab_type": "text"
      },
      "source": [
        "\n",
        "\n",
        "Ok that was a lot to absorb, wasn't it!  But while we wanted to highlight the important parts of ML (get to know your data, and its meaning), we also want you to be clear that the ML relevant part of the code is actually very compact.  Here's the tidy, compact version of the program for Naïve Bayes, which we discussed in the [pre-video](https://www.youtube.com/watch?v=zp_OGNwsXB0) (as a CS3244 student, please watch through Coursemology)."
      ]
    },
    {
      "cell_type": "code",
      "metadata": {
        "id": "oLzyFsqZzPTn",
        "colab_type": "code",
        "outputId": "72015be0-59a3-4435-d225-58cbc749f367",
        "colab": {
          "base_uri": "https://localhost:8080/",
          "height": 50
        }
      },
      "source": [
        "## Do all of the library imports\n",
        "import numpy as np                                   # General numeric computations\n",
        "import pandas as pd                                  # Data frame manipulation and cleanup\n",
        "from sklearn.naive_bayes import GaussianNB           # the NB learner\n",
        "from sklearn.model_selection import train_test_split # creating splits\n",
        "\n",
        "## Let's read the data in as a \"data frame\" (df), equivalent to our (X,Y) data matrix\n",
        "# This function reads in comma-separated data into a data frame structure. \n",
        "df = pd.read_csv('https://archive.ics.uci.edu/ml/machine-learning-databases/wine-quality/winequality-white.csv',sep=';') # Separate on semicolons\n",
        "\n",
        "## Create the \"good wine\" column as the y to predict, with quality is 7 or better.\n",
        "df['good wine'] = np.where(df['quality']>=7, \"Good\", \"Not Good\")\n",
        "df.drop('quality', axis=1, inplace=True) # drop the quality column, else we might accidentally predict with it as a feature...\n",
        "df_X = df[df.columns[df.columns != 'good wine']].copy() # Partition the features from the class to predict; separate X and y in the data frame\n",
        "df_y = df['good wine'].copy()\n",
        "\n",
        "# Split the data into 80% for training and 20% for testing\n",
        "# (random_state): we use a fixed random seed so we get the same results every time.  20% for testing.\n",
        "X_train, X_test, y_train, y_test = train_test_split(df_X, df_y, test_size=0.2, random_state=0)\n",
        "\n",
        "# Load the Naïve Bayes algorithm and run it.  Report its accuracy on both training and testing instances.\n",
        "nb = GaussianNB()\n",
        "nb_model = nb.fit(X_train,y_train)\n",
        "print('Naïve Bayes accuracy for train set: %f' % nb_model.score(X_train, y_train))\n",
        "print('Naïve Bayes accuracy for test set: %f' % nb_model.score(X_test, y_test))"
      ],
      "execution_count": 0,
      "outputs": [
        {
          "output_type": "stream",
          "text": [
            "Naïve Bayes accuracy for train set: 0.727667\n",
            "Naïve Bayes accuracy for test set: 0.740816\n"
          ],
          "name": "stdout"
        }
      ]
    },
    {
      "cell_type": "markdown",
      "metadata": {
        "id": "VzNcUzvQ0xLE",
        "colab_type": "text"
      },
      "source": [
        "Congrats, you've done quite a lot of Machine Learning (calling the `fit` function from `sklearn`)! But that's just machine learning from above the hood, now we will go under the hood and explore more about these two algorithms!\n"
      ]
    },
    {
      "cell_type": "markdown",
      "metadata": {
        "id": "EDzQE5o0f8jq",
        "colab_type": "text"
      },
      "source": [
        "## 2 Programming: Implementing Naïve Bayes"
      ]
    },
    {
      "cell_type": "markdown",
      "metadata": {
        "id": "C448KE0XrkqG",
        "colab_type": "text"
      },
      "source": [
        "In the previous section, we used the `sklearn` implementation of Naïve Bayes and $k$-NN. Now, we'll be implementing them ourself from scratch. For this,  we'll be using the dataset (that you are already familiar with from the pre-video), named the _Play Golf_ dataset."
      ]
    },
    {
      "cell_type": "markdown",
      "metadata": {
        "id": "21n1_tq_g8to",
        "colab_type": "text"
      },
      "source": [
        "### .a Initializing the dataset"
      ]
    },
    {
      "cell_type": "code",
      "metadata": {
        "id": "8aIsSN3uvKtP",
        "colab_type": "code",
        "outputId": "bec721ef-ad58-4694-e000-41d53fa19157",
        "colab": {
          "base_uri": "https://localhost:8080/",
          "height": 195
        }
      },
      "source": [
        "import numpy as np\n",
        "import pandas as pd\n",
        "\n",
        "# Let's create the Play Golf dataset from scratch\n",
        "pg_data = np.array([['Rainy','Hot','High','False','No'],\n",
        "              ['Rainy','Hot','High','True','No'],\n",
        "              ['Overcast','Hot','High','False','Yes'],\n",
        "              ['Sunny','Mild','High','False','Yes'],\n",
        "              ['Sunny','Cool','Normal','False','Yes'],\n",
        "              ['Sunny','Cool','Normal','True','No'],\n",
        "              ['Overcast','Cool','Normal','True','Yes'],\n",
        "              ['Rainy','Mild','High','False','No'],\n",
        "              ['Rainy','Cool','Normal','False','Yes'],\n",
        "              ['Sunny','Mild','Normal','False','Yes'],\n",
        "              ['Rainy','Mild','Normal','True','Yes'],\n",
        "              ['Overcast','Mild','High','True','Yes'],\n",
        "              ['Overcast','Hot','Normal','False','Yes'],\n",
        "              ['Sunny','Mild','High','True','No']])\n",
        "pg = pd.DataFrame(pg_data)\n",
        "# add column headers to our data\n",
        "pg.columns = [\"outlook\", \"temperature\", \"humidity\", \"windy\",\"play_golf\"]\n",
        "# Partition the features from the class to predict\n",
        "pg_X = pg[pg.columns[pg.columns != \"play_golf\"]].copy()\n",
        "pg_y = pg[\"play_golf\"].copy()\n",
        "# check that that worked by printing the first few rows\n",
        "pg.head()"
      ],
      "execution_count": 0,
      "outputs": [
        {
          "output_type": "execute_result",
          "data": {
            "text/html": [
              "<div>\n",
              "<style scoped>\n",
              "    .dataframe tbody tr th:only-of-type {\n",
              "        vertical-align: middle;\n",
              "    }\n",
              "\n",
              "    .dataframe tbody tr th {\n",
              "        vertical-align: top;\n",
              "    }\n",
              "\n",
              "    .dataframe thead th {\n",
              "        text-align: right;\n",
              "    }\n",
              "</style>\n",
              "<table border=\"1\" class=\"dataframe\">\n",
              "  <thead>\n",
              "    <tr style=\"text-align: right;\">\n",
              "      <th></th>\n",
              "      <th>outlook</th>\n",
              "      <th>temperature</th>\n",
              "      <th>humidity</th>\n",
              "      <th>windy</th>\n",
              "      <th>play_golf</th>\n",
              "    </tr>\n",
              "  </thead>\n",
              "  <tbody>\n",
              "    <tr>\n",
              "      <th>0</th>\n",
              "      <td>Rainy</td>\n",
              "      <td>Hot</td>\n",
              "      <td>High</td>\n",
              "      <td>False</td>\n",
              "      <td>No</td>\n",
              "    </tr>\n",
              "    <tr>\n",
              "      <th>1</th>\n",
              "      <td>Rainy</td>\n",
              "      <td>Hot</td>\n",
              "      <td>High</td>\n",
              "      <td>True</td>\n",
              "      <td>No</td>\n",
              "    </tr>\n",
              "    <tr>\n",
              "      <th>2</th>\n",
              "      <td>Overcast</td>\n",
              "      <td>Hot</td>\n",
              "      <td>High</td>\n",
              "      <td>False</td>\n",
              "      <td>Yes</td>\n",
              "    </tr>\n",
              "    <tr>\n",
              "      <th>3</th>\n",
              "      <td>Sunny</td>\n",
              "      <td>Mild</td>\n",
              "      <td>High</td>\n",
              "      <td>False</td>\n",
              "      <td>Yes</td>\n",
              "    </tr>\n",
              "    <tr>\n",
              "      <th>4</th>\n",
              "      <td>Sunny</td>\n",
              "      <td>Cool</td>\n",
              "      <td>Normal</td>\n",
              "      <td>False</td>\n",
              "      <td>Yes</td>\n",
              "    </tr>\n",
              "  </tbody>\n",
              "</table>\n",
              "</div>"
            ],
            "text/plain": [
              "    outlook temperature humidity  windy play_golf\n",
              "0     Rainy         Hot     High  False        No\n",
              "1     Rainy         Hot     High   True        No\n",
              "2  Overcast         Hot     High  False       Yes\n",
              "3     Sunny        Mild     High  False       Yes\n",
              "4     Sunny        Cool   Normal  False       Yes"
            ]
          },
          "metadata": {
            "tags": []
          },
          "execution_count": 11
        }
      ]
    },
    {
      "cell_type": "markdown",
      "metadata": {
        "id": "s4IwrfU0hCIr",
        "colab_type": "text"
      },
      "source": [
        "### .b Naïve Bayes Rule"
      ]
    },
    {
      "cell_type": "markdown",
      "metadata": {
        "id": "3KAYSXsbrlC1",
        "colab_type": "text"
      },
      "source": [
        "Recall that in Naïve Bayes, we use Bayes' Rule: $$P(y|\\mathbf{x})=\\frac{P(\\mathbf{x}|y)\\times P(y)}{P(\\mathbf{x})}$$ and that we make a naïve assumption that all of the features of $\\mathbf{x}$ are independent of each other conditional on the class $y$.  We then change the right hand side (RHS) of the rule to: $$P(y|\\mathbf{x}) = \\frac{(\\prod_{i=1}^n P(x_i|y))\\times P(y)}{P(\\mathbf{x})}$$.  \n",
        "\n",
        "We need statistics of the prior probability/likelihood $P(y)$ and all of the conditional probabilities/likelihoods for all $n$ features of $x$: $P(x_1|y)$ through $P(x_n|y)$.  We don't need the denominator $P(\\mathbf{x})$, the probability/likelihood of the data, because the probabilities/likelihood will affect all outcomes equally.\n",
        "\n"
      ]
    },
    {
      "cell_type": "markdown",
      "metadata": {
        "id": "ksTEHxuBjJb6",
        "colab_type": "text"
      },
      "source": [
        "### .c Calculate Prior Probabilities"
      ]
    },
    {
      "cell_type": "markdown",
      "metadata": {
        "id": "3d3sIyn-jItL",
        "colab_type": "text"
      },
      "source": [
        "Let's go ahead and get the prior probabilities/likelihood of the class labels $P(y)$, where $y \\in\\{Yes,No\\}$."
      ]
    },
    {
      "cell_type": "code",
      "metadata": {
        "id": "OcpAHcpl6pbE",
        "colab_type": "code",
        "outputId": "600ad46e-98f8-4e1c-8da5-b72558d3d900",
        "colab": {
          "base_uri": "https://localhost:8080/",
          "height": 34
        }
      },
      "source": [
        "# Let's calculate the priors.  They should be probabilities between 0 and 1. \n",
        "# First calculate the number of rows in the data table.\n",
        "num_rows = len(pg)\n",
        "\n",
        "# We'll use a hashtable to store the values of the priors.  Not efficient but simple.\n",
        "\n",
        "# the dataframe makes it easy to check whether rows or cells meet a condition.\n",
        "priors = { 'Yes': np.sum(pg['play_golf']=='Yes')/num_rows,  \n",
        "           'No':  np.sum(pg['play_golf']=='No')/num_rows}     ###  coding answer\n",
        "\n",
        "# Done! Let's check...\n",
        "print (\"Prior probability of 'Play Golf == Yes' = %f\" % priors['Yes'])\n",
        "\n",
        "# Ooo, my bad.  These are counts, not probabilities yet.  \n",
        "# Your Turn: Can you fix lines 8 and 9?"
      ],
      "execution_count": 0,
      "outputs": [
        {
          "output_type": "stream",
          "text": [
            "Prior probability of 'Play Golf == Yes' = 0.642857\n"
          ],
          "name": "stdout"
        }
      ]
    },
    {
      "cell_type": "markdown",
      "metadata": {
        "id": "f6yjE62PhMgc",
        "colab_type": "text"
      },
      "source": [
        "**Your Turn (Question 3)**: What is the prior probability of 'Play Golf == Yes'?\n",
        "\n",
        "_Copy the above code block you modified to get the correct answer into the assessment question in Coursemology_"
      ]
    },
    {
      "cell_type": "markdown",
      "metadata": {
        "id": "BrZOZWnljPnc",
        "colab_type": "text"
      },
      "source": [
        "### .d Calculate Conditional Probabilites"
      ]
    },
    {
      "cell_type": "markdown",
      "metadata": {
        "id": "hFj4hwceCYmq",
        "colab_type": "text"
      },
      "source": [
        "Next we are going to calculate our conditional probabilities on each features of $\\mathbf{x}$, i.e., $P(x_i|y)$.  \n",
        "We'll start by counting how many times for the each features of $\\mathbf{x}$ occur conditioned on the specific target $y$ value; i.e. out of the total number of days person plays golf, how many of the days were _sunny/rainy/overcast_?"
      ]
    },
    {
      "cell_type": "markdown",
      "metadata": {
        "id": "zpBjLFv4KMV5",
        "colab_type": "text"
      },
      "source": [
        "First, let's compile a dictionary of dictionary of possible input values."
      ]
    },
    {
      "cell_type": "code",
      "metadata": {
        "id": "yD5yYisF2sXZ",
        "colab_type": "code",
        "colab": {}
      },
      "source": [
        "# Useful to have a dictionary of all possible values\n",
        "possible_inputs = {'outlook': {'Rainy', 'Overcast', 'Sunny'}, \n",
        "                   'temperature':{'Hot','Mild', 'Cool'},  \n",
        "                   'humidity': {'High', 'Normal'},\n",
        "                   'windy' : {'True', 'False'}}"
      ],
      "execution_count": 0,
      "outputs": []
    },
    {
      "cell_type": "markdown",
      "metadata": {
        "id": "qHCKn0xSKri6",
        "colab_type": "text"
      },
      "source": [
        "Next, we calculate the probabilities by counting the number of occurences of for each feature's possible input value and each outcome before dividing it by the total occurences of the outcome; e.g.: \n",
        "$$ P(\\text{sunny}|\\text{play golf}) = \\frac{\\text{number of occurences sunny and play golf}}{\\text{number of occurences play golf}} $$ "
      ]
    },
    {
      "cell_type": "code",
      "metadata": {
        "id": "V5Hu5ZIb2sVM",
        "colab_type": "code",
        "outputId": "5ffc55e9-65df-4056-931a-eeac358cbd83",
        "colab": {
          "base_uri": "https://localhost:8080/",
          "height": 34
        }
      },
      "source": [
        "# Remember to run the previous cell blocks!\n",
        "# Let's calculate the conditional probabilities.  They should also be probabilities between 0 and 1.  \n",
        "# We'll use a hashtable of two hashtables to store the values.\n",
        "# The first level we'll store the hashes for the output conditions, \n",
        "# and in the second level we'll store counts for the input feature values such as such as 'outlook==Rainy'\n",
        "likelihoods = {'Yes': {}, 'No': {}}\n",
        "for key in possible_inputs.keys():\n",
        "    for value in possible_inputs[key]:\n",
        "        likelihoods['Yes'][key+'=='+value] = len(pg[(pg[key]==value) & (pg['play_golf']=='Yes')]) / np.sum(pg['play_golf']=='Yes')\n",
        "        likelihoods['No'][key+'=='+value] = len(pg[(pg[key]==value) & (pg['play_golf']=='No')]) / np.sum(pg['play_golf']=='No')   ### coding answer\n",
        "\n",
        "# Check that our calculation is right\n",
        "print(\"Likelihood of it being sunny, given we are playing golf = %.6f\" % likelihoods['Yes']['outlook==Sunny'])\n",
        "\n",
        "# That's not right.  Ah... We forgot to normalise by the probability of the target class.  \n",
        "# Your Turn: Can you fix the above sets of lines 9, 10 by dividing through by the appropriate amount?    "
      ],
      "execution_count": 0,
      "outputs": [
        {
          "output_type": "stream",
          "text": [
            "Likelihood of it being sunny, given we are playing golf = 0.333333\n"
          ],
          "name": "stdout"
        }
      ]
    },
    {
      "cell_type": "markdown",
      "metadata": {
        "id": "7uKDL08jkPv8",
        "colab_type": "text"
      },
      "source": [
        "**Your Turn (Question 4):** What is the likelihood of it being sunny, given we are playing golf (likelihoods['Yes']['outlook==Sunny'])?\n",
        "\n",
        "_Copy the above code block you modified to get the correct answer into the assessment question in Coursemology_"
      ]
    },
    {
      "cell_type": "markdown",
      "metadata": {
        "id": "zpCe_mrTjsaO",
        "colab_type": "text"
      },
      "source": [
        "### .e Calculate the Posterior Probability"
      ]
    },
    {
      "cell_type": "markdown",
      "metadata": {
        "id": "ydn_bCkmF4Xm",
        "colab_type": "text"
      },
      "source": [
        "Great! We have everything we need.  It's sunny today outside.  What's the posterior probability that we'll go out and play golf? i.e., $P(Yes|outlook=Sunny)$.  Note the difference between the previous likelihood and what we want to calculate now."
      ]
    },
    {
      "cell_type": "code",
      "metadata": {
        "id": "SoBD8p6oI3qn",
        "colab_type": "code",
        "outputId": "fc8b2a3a-816b-4133-b8d9-6628e8eda6ac",
        "colab": {
          "base_uri": "https://localhost:8080/",
          "height": 50
        }
      },
      "source": [
        "print(\"Posterior* probability we will play golf when it's sunny = %f\" % (likelihoods['Yes']['outlook==Sunny'] * priors['Yes']))\n",
        "print(\"Posterior* probability we won't play golf when it's sunny = %f\" % (likelihoods['No']['outlook==Sunny'] * priors['No']))"
      ],
      "execution_count": 0,
      "outputs": [
        {
          "output_type": "stream",
          "text": [
            "Posterior* probability we will play golf when it's sunny = 0.214286\n",
            "Posterior* probability we won't play golf when it's sunny = 0.142857\n"
          ],
          "name": "stdout"
        }
      ]
    },
    {
      "cell_type": "markdown",
      "metadata": {
        "id": "uhpWc-rfMeOO",
        "colab_type": "text"
      },
      "source": [
        "The above looks strange doesn't it?  The probabilities don't add up to 1.  If they were really posterior probabilities, they would have to add up.  We put \"Posterior$\\color{red}{*}$\" instead of just \"Posterior\" to alert you to this.  This is because we didn't actually divide through by the data probabilities, the marginals, as in the slides, as they will affect both outcomes equally.  \n",
        "\n",
        "So it looks like we'll play golf after all.  \n",
        "\n",
        "Wait... Now that we've gone outside, I notice that the air is _still_ and that it's _humid_ and the temperature is _hot_.  That's Singapore for you.  What's my \"posterior\" probability now? "
      ]
    },
    {
      "cell_type": "code",
      "metadata": {
        "id": "xTONRzKQF1qV",
        "colab_type": "code",
        "outputId": "72e7dd21-e51b-4142-ebc8-0a4a6844631b",
        "colab": {
          "base_uri": "https://localhost:8080/",
          "height": 50
        }
      },
      "source": [
        "### Your Turn: fill in the calculations\n",
        "posterior_yes_SHHF = likelihoods['Yes']['outlook==Sunny'] * likelihoods['Yes']['temperature==Hot'] * likelihoods['Yes']['humidity==High'] * likelihoods['Yes']['windy==False'] * priors['Yes']\n",
        "posterior_no_SHHF = likelihoods['No']['outlook==Sunny'] * likelihoods['No']['temperature==Hot'] * likelihoods['No']['humidity==High'] * likelihoods['No']['windy==False'] * priors['No']\n",
        "### coding answer\n",
        "\n",
        "print(\"Posterior* probability we will play golf when it's sunny, humid, hot and not windy = %f\" % posterior_yes_SHHF)\n",
        "print(\"Posterior* probability we won't play golf when it's sunny, humid, hot and not windy = %f\" % posterior_no_SHHF)"
      ],
      "execution_count": 0,
      "outputs": [
        {
          "output_type": "stream",
          "text": [
            "Posterior* probability we will play golf when it's sunny, humid, hot and not windy = 0.010582\n",
            "Posterior* probability we won't play golf when it's sunny, humid, hot and not windy = 0.018286\n"
          ],
          "name": "stdout"
        }
      ]
    },
    {
      "cell_type": "markdown",
      "metadata": {
        "id": "q9XjM8DBzRde",
        "colab_type": "text"
      },
      "source": [
        "**Your Turn (Question 5):** Complete the code to calculate the Posterior* probability we will play golf when it's sunny, not windy, humid and hot? Also the probability that we will not play golf?\n",
        "\n",
        "_Copy the above code block you modified to get the correct answer into the assessment question in Coursemology_"
      ]
    },
    {
      "cell_type": "markdown",
      "metadata": {
        "id": "CA-AJscQPFSe",
        "colab_type": "text"
      },
      "source": [
        "_Aiya!_  Guess I'll stay inside and do some machine learning instead. 😎🍹 \n",
        "\n",
        "Maybe we can fix the above to calculate actual probabilities for these values.  We'll just have to normalise them against each other.  That's the last part for today."
      ]
    },
    {
      "cell_type": "code",
      "metadata": {
        "id": "BbOrSm2MQHFI",
        "colab_type": "code",
        "outputId": "3891f92b-9d9c-4912-9e5d-5c123b2bc579",
        "colab": {
          "base_uri": "https://localhost:8080/",
          "height": 34
        }
      },
      "source": [
        "### Your turn: Calculate the actual probability for our case of playing golf when it's sunny, still, humid and hot.\n",
        "\n",
        "proba_play_golf = posterior_yes_SHHF / (posterior_yes_SHHF + posterior_no_SHHF)   ### coding answer\n",
        "\n",
        "print(\"Actual posterior probability we will play golf when it's sunny, not windy, humid and hot = %f\" % proba_play_golf)"
      ],
      "execution_count": 0,
      "outputs": [
        {
          "output_type": "stream",
          "text": [
            "Actual posterior probability we will play golf when it's sunny, not windy, humid and hot = 0.366569\n"
          ],
          "name": "stdout"
        }
      ]
    },
    {
      "cell_type": "markdown",
      "metadata": {
        "id": "BejUJPVGyTHf",
        "colab_type": "text"
      },
      "source": [
        "**Your Turn (Question 6)**: Complete the code to calculate the actual probability for our case of playing golf when it's sunny, still, humid and hot.\n",
        "\n",
        "_Copy the above code block you modified to get the correct answer into the assessment question in Coursemology_\n"
      ]
    },
    {
      "cell_type": "markdown",
      "metadata": {
        "id": "dg1ln85qqEIf",
        "colab_type": "text"
      },
      "source": [
        "(Optional)  We said that Naïve Bayes can only handle enumerated features and labels: see the summary slide in the Week 03 Pre videos.  Yet, the sklearn Naïve Bayes that we used in the previous exercise handled all of the continuous features.  There's some contradiction here.  Let's pause for a moment and think what could be the difference.  Feel free to look it up on the Web (but then please follow best practice and credit where you found the information in the _References_ part of your Declaration of Individual Work )"
      ]
    },
    {
      "cell_type": "markdown",
      "metadata": {
        "id": "a4iNLhyoTdYl",
        "colab_type": "text"
      },
      "source": [
        "**Your Turn (Question 7):** Why is there a discrepancy between the lecture and the pre-tutorial exercise?  What does **sklearn**'s Naïve Bayes do that we didn't?  \n",
        "**Hint**: Look at the user guide for `sklearn`'s implementation!"
      ]
    },
    {
      "cell_type": "markdown",
      "metadata": {
        "id": "5GWh9D9QFcGF",
        "colab_type": "text"
      },
      "source": [
        "---\n",
        "# Week 03: Post-Tutorial Work\n",
        "\n",
        "\n",
        "You will have to watch the post-videos on the lecture topics introduced this week, then attempt the following exercises.  "
      ]
    },
    {
      "cell_type": "markdown",
      "metadata": {
        "id": "YNKZJnS0olhA",
        "colab_type": "text"
      },
      "source": [
        "## 3 $k$ Nearest Neighbors"
      ]
    },
    {
      "cell_type": "markdown",
      "metadata": {
        "id": "zZI3tXIToq_8",
        "colab_type": "text"
      },
      "source": [
        "As we discussed in the video $k$ NN doesn't have to do anything to set up the model $h_{\\theta}$ for training.  The parameters ${\\theta}$  in $k$ NN is actually the _hyperparameter_ choices made for the distance metric and the number of clusters $k$.  \n",
        "\n",
        "Let's examine the _Iris dataset_ which has samples of iris flowers attributed to $3$ different species of iris.  For simplifiy, we'll study only the first two features, and examine how the decision boundary changes with different values of $k$.\n",
        "\n",
        "Feel free to look at other features and change the hyperparameter values - the code is provided to you for studying and experimentation.  Tinkering with the algorithms is a key way to learn more about how the algorithms behave and is much more interactive than lecturing, hence we provide this method of self-instruction to you."
      ]
    },
    {
      "cell_type": "code",
      "metadata": {
        "id": "IfYJOOrNdaTl",
        "colab_type": "code",
        "outputId": "cf32932c-dfa5-44e7-db5b-fd3ad77e11a2",
        "colab": {
          "base_uri": "https://localhost:8080/",
          "height": 729
        }
      },
      "source": [
        "# This code is a modification of the sample code for kNN in sklearn\n",
        "# Modified by Min, Aug 2018.\n",
        "import numpy as np\n",
        "import matplotlib.pyplot as plt\n",
        "from matplotlib.colors import ListedColormap\n",
        "from sklearn import neighbors, datasets\n",
        "\n",
        "iris = datasets.load_iris()\n",
        "\n",
        "# we only take the first two features. \n",
        "X = iris.data[:, :2]\n",
        "y = iris.target\n",
        "\n",
        "# Create color maps\n",
        "cmap_light = ListedColormap(['#FFCCCC', '#CCFFCC', '#CCCCFF'])\n",
        "cmap_bold = ListedColormap(['#FF0000', '#00FF00', '#0000FF'])\n",
        "\n",
        "step_size = .02  # step size in the mesh\n",
        "\n",
        "plt.figure(figsize=(10,10)) # make a bigger plot for our subplots\n",
        "for i in range(1,10):\n",
        "    ## map a subplot i to a certain selection of k\n",
        "    # Your turn (optional): modify and experiment\n",
        "    n_neighbors = 4*i - 3 \n",
        "    plt.subplot(3, 3, i) \n",
        "    # we create an instance of Neighbours Classifier and fit the data.\n",
        "    clf = neighbors.KNeighborsClassifier(n_neighbors)\n",
        "    clf.fit(X, y)\n",
        "\n",
        "    # Plot the decision boundary. For that, we will assign a color to each\n",
        "    # point in the mesh [x_min, x_max]x[y_min, y_max].\n",
        "    x_min, x_max = X[:, 0].min() - 1, X[:, 0].max() + 1\n",
        "    y_min, y_max = X[:, 1].min() - 1, X[:, 1].max() + 1\n",
        "    xx, yy = np.meshgrid(np.arange(x_min, x_max, step_size),\n",
        "                       np.arange(y_min, y_max, step_size))\n",
        "    Z = clf.predict(np.c_[xx.ravel(), yy.ravel()])\n",
        "\n",
        "    # Put the result into a color plot\n",
        "    Z = Z.reshape(xx.shape)\n",
        "    plt.pcolormesh(xx, yy, Z, cmap=cmap_light)\n",
        "\n",
        "    # Plot also the training points\n",
        "    plt.scatter(X[:, 0], X[:, 1], c=y, cmap=cmap_bold,\n",
        "              edgecolor='k', s=20)\n",
        "    plt.xlim(xx.min(), xx.max())\n",
        "    plt.ylim(yy.min(), yy.max())\n",
        "    plt.title(\"%i-NN\" % n_neighbors)\n",
        "\n",
        "plt.tight_layout()\n",
        "plt.show()"
      ],
      "execution_count": 0,
      "outputs": [
        {
          "output_type": "display_data",
          "data": {
            "image/png": "[encoded data removed]",
            "text/plain": [
              "<Figure size 720x720 with 9 Axes>"
            ]
          },
          "metadata": {
            "tags": []
          }
        }
      ]
    },
    {
      "cell_type": "markdown",
      "metadata": {
        "id": "zfWkjUqXbJWs",
        "colab_type": "text"
      },
      "source": [
        "**Your Turn (Question 1):** From the above plot, how many neighbors do you think gives a good result?  Then explain why. (Feel free to try different numbers)\n",
        "\n",
        "_Replace with your two answers: your answer on one line and your explanation on a following line._"
      ]
    },
    {
      "cell_type": "markdown",
      "metadata": {
        "id": "9rCzXERkqz74",
        "colab_type": "text"
      },
      "source": [
        "## 4 Scaling and Normalizing Data\n"
      ]
    },
    {
      "cell_type": "markdown",
      "metadata": {
        "id": "mwMXwfm_YGE6",
        "colab_type": "text"
      },
      "source": [
        "Certain machine learning algorithms are sensitive to distance changes, as we have discussed in the post-class video lecture.  Let's see the effect that normalization and scaling has on the wine quality dataset.  Let's first get it set up."
      ]
    },
    {
      "cell_type": "code",
      "metadata": {
        "id": "mOVXVUi6fbCA",
        "colab_type": "code",
        "colab": {}
      },
      "source": [
        "import numpy as np \n",
        "import pandas as pd \n",
        "from sklearn.model_selection import train_test_split \n",
        "\n",
        "# Let's read the data in as a data frame, equivalent to our (X,Y) data matrix. \n",
        "# We'll use another variable even though it's the same data as in our W2 Pre notebook.\n",
        "wq = pd.read_csv('https://archive.ics.uci.edu/ml/machine-learning-databases/wine-quality/winequality-white.csv',sep=';') # Separate on semicolons\n",
        "\n",
        "wq['good wine'] = np.where(wq['quality']>=7, \"Good\", \"Not Good\")\n",
        "wq.drop('quality', axis=1, inplace=True) \n",
        "wq_X = wq[wq.columns[wq.columns != 'good wine']].copy() \n",
        "wq_y = wq['good wine'].copy()\n",
        "X_train, X_test, y_train, y_test = train_test_split(wq_X, wq_y, test_size=0.2, random_state=0)"
      ],
      "execution_count": 0,
      "outputs": []
    },
    {
      "cell_type": "markdown",
      "metadata": {
        "id": "nD9Q--26gYv9",
        "colab_type": "text"
      },
      "source": [
        "Scaling usually is done using min–max scaling, where we take the minimum and maximum values and assign them to 0 and 1, respectively.  Every other value gets mapped in between by a linear transformation.\n",
        "\n",
        "Often, instead of scaling, we will do normalization, which takes a feature (column) $x_i$ and rescales it so that it's values will have the properties of a standard normal distribution with $\\mu=0$ and $\\sigma = 1$.  Both of these operations are available in sklearn.  Let's see the effect of normalization has on the wine quality dataset:"
      ]
    },
    {
      "cell_type": "code",
      "metadata": {
        "id": "bK4Gx3lemIDF",
        "colab_type": "code",
        "colab": {}
      },
      "source": [
        "from sklearn.preprocessing import StandardScaler\n",
        "scaler = StandardScaler()\n",
        "\n",
        "X_train_scaled = scaler.fit_transform(X_train) # rescale for \\mu = 0 and \\sigma = 1, and remember the parameters for the scaling\n",
        "X_test_scaled = scaler.transform(X_test) # Apply the transform with the **same parameters from training** to the test data.  "
      ],
      "execution_count": 0,
      "outputs": []
    },
    {
      "cell_type": "code",
      "metadata": {
        "id": "QY-YZ35bhpa7",
        "colab_type": "code",
        "outputId": "b094b472-2efb-4140-a63c-d778c3412012",
        "colab": {
          "base_uri": "https://localhost:8080/",
          "height": 50
        }
      },
      "source": [
        "fa_mean =        X_train['fixed acidity'].mean()\n",
        "fa_mean_scaled = X_train_scaled[:,0].mean() # fixed acidity is column 0, when we transformed the data, the output doesn't have column information any more\n",
        "fa_std =        X_train['fixed acidity'].std()\n",
        "fa_std_scaled = X_train_scaled[:,0].std() \n",
        "\n",
        "va_mean =        X_train['volatile acidity'].mean()\n",
        "va_mean_scaled = X_train_scaled[:,1].mean() # volatile acidity is column 1, when we transformed the data, the output doesn't have column information any more\n",
        "va_std =        X_train['volatile acidity'].std()\n",
        "va_std_scaled = X_train_scaled[:,1].std() \n",
        "\n",
        "# check\n",
        "print (\"Fixed Acidity mean and standard deviation: %f (%f)\" % (fa_mean,fa_std))\n",
        "print (\"Fixed Acidity (normalized) mean and standard deviation: %f (%f)\" % (fa_mean_scaled,fa_std_scaled))"
      ],
      "execution_count": 0,
      "outputs": [
        {
          "output_type": "stream",
          "text": [
            "Fixed Acidity mean and standard deviation: 6.853714 (0.825378)\n",
            "Fixed Acidity (normalized) mean and standard deviation: -0.000000 (1.000000)\n"
          ],
          "name": "stdout"
        }
      ]
    },
    {
      "cell_type": "markdown",
      "metadata": {
        "id": "piTk7WsUXLG9",
        "colab_type": "text"
      },
      "source": [
        "Now that we have two version of our data points, _normalized_ and _unnormalized_, let's plot them and see how do they look!"
      ]
    },
    {
      "cell_type": "code",
      "metadata": {
        "id": "ZODfhtYJeEu8",
        "colab_type": "code",
        "outputId": "1082cbb2-330c-4fe3-f03b-a3a650132c73",
        "colab": {
          "base_uri": "https://localhost:8080/",
          "height": 441
        }
      },
      "source": [
        "import matplotlib.pyplot as plt\n",
        "from matplotlib.colors import ListedColormap\n",
        "%matplotlib inline\n",
        "\n",
        "# plot both the normalized and unnormalized data in the same plot\n",
        "plt.figure(figsize=(8,6))\n",
        "# plot the Unnormalized points in green dots\n",
        "plt.scatter(X_train['fixed acidity'], X_train['volatile acidity'], color='green', label='Unnormalized', alpha=0.5)\n",
        "# plot the Normalized points in red dots\n",
        "plt.scatter(X_train_scaled[:,0], X_train_scaled[:,1], color='red', label='Normalized [$\\mu = 0, \\sigma = 1$]', alpha=0.3)\n",
        "# Put labels in the plot\n",
        "plt.title('Fixed versus Volatile Acidity on the Wine Quality Dataset')\n",
        "plt.xlabel('Fixed Acidity')\n",
        "plt.ylabel('Volatile Acidity')\n",
        "plt.legend(loc='upper left')\n",
        "plt.grid()\n",
        "\n",
        "plt.tight_layout()\n"
      ],
      "execution_count": 0,
      "outputs": [
        {
          "output_type": "display_data",
          "data": {
            "image/png": "[encoded data removed]",
            "text/plain": [
              "<Figure size 576x432 with 1 Axes>"
            ]
          },
          "metadata": {
            "tags": []
          }
        }
      ]
    },
    {
      "cell_type": "markdown",
      "metadata": {
        "id": "cu2cAyHwX5QQ",
        "colab_type": "text"
      },
      "source": [
        "As the data points look different, it might affect our algorithm in learning. Let's see how the training is affected by normalization!"
      ]
    },
    {
      "cell_type": "code",
      "metadata": {
        "id": "uLxdcbl6mH5B",
        "colab_type": "code",
        "outputId": "a9fbb265-74c5-468b-f920-66ea1b1dbd9c",
        "colab": {
          "base_uri": "https://localhost:8080/",
          "height": 50
        }
      },
      "source": [
        "# Get the machine learning algorithm\n",
        "from sklearn import neighbors\n",
        "\n",
        "knn = neighbors.KNeighborsClassifier(n_neighbors = 1)\n",
        "knn_model_scaled = knn.fit(X_train_scaled, y_train)\n",
        "print('1-NN accuracy (Scaled) for test set: %f' % knn_model_scaled.score(X_test_scaled, y_test))\n",
        "knn_model = knn.fit(X_train, y_train)\n",
        "print('1-NN accuracy (Non-scaled) for test set: %f' % knn_model.score(X_test, y_test))"
      ],
      "execution_count": 0,
      "outputs": [
        {
          "output_type": "stream",
          "text": [
            "1-NN accuracy (Scaled) for test set: 0.838776\n",
            "1-NN accuracy (Non-scaled) for test set: 0.802041\n"
          ],
          "name": "stdout"
        }
      ]
    },
    {
      "cell_type": "markdown",
      "metadata": {
        "id": "D1alcbAaYztV",
        "colab_type": "text"
      },
      "source": [
        "**Your Turn (Question 2):** Why do you think scaling helps in this case to improve nearest neighbors algorithm?\n",
        "\n",
        "_Replace with your answer_"
      ]
    },
    {
      "cell_type": "markdown",
      "metadata": {
        "id": "B4E2s0dyZDln",
        "colab_type": "text"
      },
      "source": [
        "**Your Turn (Question 3):** Do you think scaling always helps? When would you use it?\n",
        "\n",
        "_Replace with your answer_"
      ]
    },
    {
      "cell_type": "markdown",
      "metadata": {
        "id": "1JOR5eBj20Ts",
        "colab_type": "text"
      },
      "source": [
        "## 5 Curse of Dimensionality"
      ]
    },
    {
      "cell_type": "markdown",
      "metadata": {
        "id": "XkTG0WS43KN5",
        "colab_type": "text"
      },
      "source": [
        "(Optional) Finally we include code for you to run and modify to check the _Curse of Dimensionality_.  Recall that the Curse of Dimensionality suggests that the larger the dimensional space you have in your dataset, the more difficult certain aspects of learning can become."
      ]
    },
    {
      "cell_type": "code",
      "metadata": {
        "id": "GbGC5NcP3Jd_",
        "colab_type": "code",
        "outputId": "eab51a00-161f-4659-fb36-97942d1315e4",
        "colab": {
          "base_uri": "https://localhost:8080/",
          "height": 420
        }
      },
      "source": [
        "import numpy as np\n",
        "\n",
        "# Try some on your own\n",
        "for dim in [1,2,3,4,8,10,100,200]:\n",
        "    ## choices of |X|\n",
        "    samples = 200\n",
        "    #samples = pow(2,dim)\n",
        "    X = np.random.uniform(size=(samples,dim))\n",
        "\n",
        "    ## choices of x\n",
        "    x = np.random.uniform(size=(dim))\n",
        "    # x = np.zeros(dim)\n",
        "    print(\"%d dimensions:\" % dim)\n",
        "    print(\"#   Generated %d points\" % samples)\n",
        "    # print(\"#   Test point: \", x)\n",
        "    dist_array = []\n",
        "    for j in range(len(X)):\n",
        "        dist = 0.0\n",
        "        for i in range(dim):\n",
        "    #        print (\"%f => %f \"% (x[i]-X[j][i],pow(x[i]-X[j][i],2)))\n",
        "            dist += pow(x[i]-X[j][i],2)\n",
        "    #    print (\"Sum distance %f => %f\" % (dist,pow(dist,0.5)))\n",
        "        dist = pow(dist,0.5)\n",
        "        dist_array.append(dist)\n",
        "    #    print (\"%d th point %s has distance %f\" % (j,X[j],dist))\n",
        "    distances = np.array(dist_array)\n",
        "    print (\"#   Average distance (STD) of test point to %d samples: %f (%f)\" % (samples,distances.mean(),distances.std()))"
      ],
      "execution_count": 0,
      "outputs": [
        {
          "output_type": "stream",
          "text": [
            "1 dimensions:\n",
            "#   Generated 200 points\n",
            "#   Average distance (STD) of test point to 200 samples: 0.237485 (0.151398)\n",
            "2 dimensions:\n",
            "#   Generated 200 points\n",
            "#   Average distance (STD) of test point to 200 samples: 0.487588 (0.234780)\n",
            "3 dimensions:\n",
            "#   Generated 200 points\n",
            "#   Average distance (STD) of test point to 200 samples: 0.625260 (0.226251)\n",
            "4 dimensions:\n",
            "#   Generated 200 points\n",
            "#   Average distance (STD) of test point to 200 samples: 0.700625 (0.202595)\n",
            "8 dimensions:\n",
            "#   Generated 200 points\n",
            "#   Average distance (STD) of test point to 200 samples: 1.172154 (0.249518)\n",
            "10 dimensions:\n",
            "#   Generated 200 points\n",
            "#   Average distance (STD) of test point to 200 samples: 1.380209 (0.245883)\n",
            "100 dimensions:\n",
            "#   Generated 200 points\n",
            "#   Average distance (STD) of test point to 200 samples: 4.260774 (0.227189)\n",
            "200 dimensions:\n",
            "#   Generated 200 points\n",
            "#   Average distance (STD) of test point to 200 samples: 5.728674 (0.214845)\n"
          ],
          "name": "stdout"
        }
      ]
    },
    {
      "cell_type": "markdown",
      "metadata": {
        "id": "TGcWi6I2dPBS",
        "colab_type": "text"
      },
      "source": [
        "## 6 Cost Functions"
      ]
    },
    {
      "cell_type": "markdown",
      "metadata": {
        "id": "pNmqzs8fd7fd",
        "colab_type": "text"
      },
      "source": [
        "### .a Definition"
      ]
    },
    {
      "cell_type": "markdown",
      "metadata": {
        "id": "Yl1AEx-Pry_b",
        "colab_type": "text"
      },
      "source": [
        "\n",
        "In machine learning, we try to build a model of which we have a target function, $f$ (which we don't know) and we have a hypothesis $h$. We know the output of the target function, how it should be in an ideal situation. And we try to mimic the target function by our hypothesis. We want them to be very close to each other. Now, what does $h \\approx f $ mean? We are trying to make our hypothesis as good as the target function. But often times, there will be errors where our hypothesis yields incorrect answers. So we need a cost function to calculate how good our hypothesis is. Alternatively, you can think of it, as a performance measure for our model.\n",
        "\n",
        "We can define the cost function as $J(h,f)^\\color{red}{1}$, which takes as input both the system classification and the actual answers for a dataset (historically this function is denoted as $J()$, to denote the Jacobian or partial derivative, which we'll touch on in Week 04). In most cases, this function is an aggregate over pointwise (i.e., instance-wise) costs $j(h(\\mathbf{x}),f(\\mathbf{x}))$. Some examples of the pointwise error functions are$^\\color{red}{2}$:\n",
        "\n",
        "* Squared Error: $j(h(\\mathbf{x}^{(i)}, f(\\mathbf{x}^{(i)})) = (h(\\mathbf{x}^{(i)})- f(\\mathbf{x}^{(i)}))^2 $\n",
        "\n",
        "Squared error is useful for regression-related tasks since it tells us how far our model deviates from the actual value.   \n",
        "* Binary Error: $j(h(\\mathbf{x}^{(i)}),f(\\mathbf{x}^{(i)})) =\n",
        "\\begin{cases} \n",
        "      1 & h(\\mathbf{x}^{(i)}) \\neq f(\\mathbf{x}^{(i)})\\\\\n",
        "      0 & h(\\mathbf{x}^{(i)}) = f(\\mathbf{x}^{(i)})\\\\\n",
        "\\end{cases}$\n",
        "\n",
        "The binary error returns 1 or 0 if the hypothesis is not equal or equal, respectively, to its actual target value. For classification purpose, the binary error is more useful. \n",
        "\n",
        "* Cross Binary Entropy: Suppose $f(\\mathbf{x}^{(i)}) \\in \\{0,1\\}$ and $h(\\mathbf{x}^{(i)}) \\in [0,1]$ (like a probability function),\n",
        "$j(h(\\mathbf{x}^{(i)}), f(\\mathbf{x}^{(i)})) = -(1-f(\\mathbf{x}^{(i)}))\\log(1-h(\\mathbf{x}^{(i)})) - (f(\\mathbf{x}^{(i)})\\log(h(\\mathbf{x}^{(i)})) $ \n",
        "\n",
        "This is a generalisation of the binary error and is also used in binary classification tasks. You can think of it as the cost being high when the hypothesis $h(\\mathbf{x}^{(i)})$ close to 1 when  $f(\\mathbf{x}^{(i)}) = 0$ or  $h(\\mathbf{x}^{(i)})$ close to 0 when  $f(\\mathbf{x}^{(i)}) = 1$ and vice versa. This will be explored in greater detail in the future.\n",
        "\n",
        "So, the function $j(h(\\mathbf{x}^{(i)}, f(\\mathbf{x}^{(i)}))$ calculates a cost for a single point. Now if we want to calculate the overall error, Overall error $J(h,f)$ = average of pointwise errors $j(h(\\mathbf{x}^{(i)}),f(\\mathbf{x}^{(i)}))$.\n",
        "\n",
        "Now, training error:\n",
        "$$J_{train} =\\frac{1}{m} \\sum_{i=1}^m j(h(\\mathbf{x}^{(i)}),f(\\mathbf{x}^{(i)})) $$\n",
        "For training error, we can easily sum up all the pointwise error and calculate the average of the error, and we get the overall error. But it is not the same for the test error. The test error is:\n",
        "$$J_{test} = \\mathbb{E}_{\\mathbf{x}}[j(h(\\mathbf{x}^{(i)}),f(\\mathbf{x}^{(i)}))]$$\n",
        "So in case of test error we take the expectation of the pointwise error.\n",
        "\n",
        "_Footnotes_: \n",
        "\n",
        "$^\\color{red}{1}$: Let's get the jargon.  You'll often also see \"cost\" termed as \"loss\" or \"risk\", and denoted as $L$ (for loss).  These are largely equivalent.  Another term \"empirical risk minimization\" just means minimizing the cost, as we do here.\n",
        "\n",
        "$^\\color{red}{2}$: We'll use $i$ as the indexing variable in this section, just to avoid confusion with $J$, which denotes the cost function.\n",
        "\n"
      ]
    },
    {
      "cell_type": "markdown",
      "metadata": {
        "id": "HInVjkFqd-pj",
        "colab_type": "text"
      },
      "source": [
        "### .b Different Cost Functions"
      ]
    },
    {
      "cell_type": "markdown",
      "metadata": {
        "id": "qgUlIeJSybf9",
        "colab_type": "text"
      },
      "source": [
        "Now, the important question which is on your mind must be: \"Which cost function should we use?\" \n",
        "\n",
        "The answer is both simple and complex: \"It depends on the problem\". \n",
        "\n",
        "Let's explore this through two examples. \n",
        "\n"
      ]
    },
    {
      "cell_type": "markdown",
      "metadata": {
        "id": "FvQjGrrxeVHd",
        "colab_type": "text"
      },
      "source": [
        "**Problem 1**: During your last final examination before graduation, you feel sick.  Are you sick?  Well, you may be sick or you may not (binary classification). If you are sick, you can decide not to attend the exam, and you'll have to graduate the following year instead. If you are not sick, you can attend the exam and graduate, but with possibly a worse class standing since you were feeling unwell when you took the exam. What if our hypothesis makes error? There are two types of errors, _false accept_ and _false reject_. \n",
        "<div align=\"center\">\n",
        "<img src=\"https://www.comp.nus.edu.sg/~neamul/Images/error2.png\" width=256 />\n",
        " </div>\n",
        "\n",
        "If the system makes a _false accept_, in this context, it means you are not actually sick but declared as sick by the system. Then you will have to spend one more year and pay the tuition fees. If the system makes a _false reject_, i.e. you are sick but you can attend the exam. This may not cause you much trouble as you can go to clinic after the exam. So for this example, the _false accept_ is very costly (one extra whole year of school), so we assign more penalty to false accept than false reject. Below can be a sample cost value for this case.\n",
        "\n",
        "<div align=\"center\">\n",
        "<img src=\"https://www.comp.nus.edu.sg/~neamul/Images/error1.png\" width=180 />\n",
        " </div>\n"
      ]
    },
    {
      "cell_type": "markdown",
      "metadata": {
        "id": "jpOjbQSCeXSA",
        "colab_type": "text"
      },
      "source": [
        "**Problem 2**: Now let's still consider being sick, but with a more virulent sickness.  If the problem was that you have swine fever, then how we measure the cost? It is different now, because a _false reject_ may allow your sickness to spread unchecked, and cause an epidemic.  As such, such _false rejects_ should be given a much higher weight.\n",
        " \n",
        "So, the cost function should be dependent on the problem defined by the user. But this is not always the case.  Most of the time users don't know which error measure is going to be the correct one. So we can compromise in such situations.\n",
        " \n",
        " * Plausible Measures : These measures are used because we can argue analytically that it has merit. For example, squared error.\n",
        " * Convenient Measure : These measures does not have merit, they are used because it is easy to use. For example, closed-form solutions or convex optimization.\n",
        " \n",
        "These are the alternatives, if we do not know the appropriate cost function. Using these measures may help us get a good result quickly. But if we know important aspects of how to embody errors, we should account for these aspects in the design of our cost function."
      ]
    },
    {
      "cell_type": "markdown",
      "metadata": {
        "id": "r20FtuHueogm",
        "colab_type": "text"
      },
      "source": [
        "**Your Turn (Question 4):** As we have discussed two problems, which error we should be worrying more?\n",
        "\n",
        "Choose from: _False accept, False reject, It depends!_"
      ]
    },
    {
      "cell_type": "markdown",
      "metadata": {
        "id": "G3UF8uKMfAl4",
        "colab_type": "text"
      },
      "source": [
        "**Your Turn (Question 5):** From the above question, explain your answer.\n",
        "\n",
        "_Replace with your answer_"
      ]
    },
    {
      "cell_type": "markdown",
      "metadata": {
        "id": "BtNLy1q-fbTP",
        "colab_type": "text"
      },
      "source": [
        "## 7 Noisy Targets"
      ]
    },
    {
      "cell_type": "markdown",
      "metadata": {
        "id": "TParku4br3Hr",
        "colab_type": "text"
      },
      "source": [
        "\n",
        "For some cases, the target function we use is not a fuction, i.e. there are multiple output for a single input. How can that be? Let's get back to our credit approval example. We may have two customers with similar attributes, and out of these two customers, one is a good customer (makes money for the bank), and other is a bad customer (loses money for the bank). \n",
        "\n",
        "Now, how do we differentiate between these two customers?\n",
        "\n",
        "To resolve this problem, we use **target distribution** instead of target function. A distribution may have similar values, whereas a function can not. Instead of $ y =f(\\mathbf{x})$ we use $P(y|\\mathbf{x})$. Now, $(\\mathbf{x},y)$ is being generated from the joint distribution $P(\\mathbf{x})P(y|\\mathbf{x})$. So a noisy target can be defined as:\n",
        "\n",
        "\n",
        "\\begin{align*}\n",
        "  y = \\text{Noisy Target} &= \\text{deterministic target function} + \\text{noise}\\\\\n",
        "  &= f(\\mathbf{x}) + \\sigma \\\\ \n",
        "\\end{align*}\n",
        "\n",
        "We are trying to learn the deterministic target function, but there is some noise. So we try to pick the pattern (stated above), we can do nothing about the remaining noise, which we assume averages to zero.\n",
        "\n",
        "So the detrministic target is a special case of a noisy target. We set $P(y|\\mathbf{x})$ to be zero except for $y = f(\\mathbf{x})$. We put all the probability value to be 1 when $y = f(\\mathbf{x})$, and 0 otherwise.\n",
        " "
      ]
    },
    {
      "cell_type": "markdown",
      "metadata": {
        "id": "IMEJHQjhfxTp",
        "colab_type": "text"
      },
      "source": [
        "**Your Turn (Question 6):** Name an example, which might have _noisy targets_. Try to generalize – Don't reuse our example of credit approval.\n",
        "\n",
        "_Write 1-4 sentence describing the problem_"
      ]
    },
    {
      "cell_type": "markdown",
      "metadata": {
        "id": "EtMmCHCTcVeA",
        "colab_type": "text"
      },
      "source": [
        "---\n",
        "# Credits"
      ]
    },
    {
      "cell_type": "markdown",
      "metadata": {
        "id": "-kGaO2wXmyVP",
        "colab_type": "text"
      },
      "source": [
        "\n",
        "Authored by Lee Yi Quan, Mohammad Neamul Kabir and [Min-Yen Kan](http://www.comp.nus.edu.sg/~kanmy) (2019), affiliated with [WING](http://wing.comp.nus.edu.sg), [NUS School of Computing](http://www.comp.nus.edu.sg) and [ALSET](http://www.nus.edu.sg/alset).\n",
        "Licensed as: [Creative Commons Attribution 4.0 International](https://creativecommons.org/licenses/by/4.0/ ) (CC BY 4.0).  Based partially on notebooks from [SarahG](https://www.kaggle.com/sgus1318/wine-quality-exploration-and-analysis/notebook) via Kaggle, [Nishank Kumar Sharma](https://medium.com/click-bait/wine-quality-prediction-using-machine-learning-59c88a826789) via Medium, Iris plot modified from tutorial on sklearn.\n",
        "Please retain and add to this credits cell if using this material as a whole or in part.   Credits for photos given in their captions."
      ]
    }
  ]
}