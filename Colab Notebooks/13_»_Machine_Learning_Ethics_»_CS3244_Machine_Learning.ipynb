{
  "nbformat": 4,
  "nbformat_minor": 0,
  "metadata": {
    "kernelspec": {
      "display_name": "Python 3",
      "language": "python",
      "name": "python3"
    },
    "language_info": {
      "codemirror_mode": {
        "name": "ipython",
        "version": 3
      },
      "file_extension": ".py",
      "mimetype": "text/x-python",
      "name": "python",
      "nbconvert_exporter": "python",
      "pygments_lexer": "ipython3",
      "version": "3.6.4"
    },
    "toc": {
      "nav_menu": {},
      "number_sections": true,
      "sideBar": true,
      "skip_h1_title": false,
      "title_cell": "Table of Contents",
      "title_sidebar": "Contents",
      "toc_cell": false,
      "toc_position": {},
      "toc_section_display": true,
      "toc_window_display": false
    },
    "varInspector": {
      "cols": {
        "lenName": 16,
        "lenType": 16,
        "lenVar": 40
      },
      "kernels_config": {
        "python": {
          "delete_cmd_postfix": "",
          "delete_cmd_prefix": "del ",
          "library": "var_list.py",
          "varRefreshCmd": "print(var_dic_list())"
        },
        "r": {
          "delete_cmd_postfix": ") ",
          "delete_cmd_prefix": "rm(",
          "library": "var_list.r",
          "varRefreshCmd": "cat(var_dic_list()) "
        }
      },
      "types_to_exclude": [
        "module",
        "function",
        "builtin_function_or_method",
        "instance",
        "_Feature"
      ],
      "window_display": false
    },
    "colab": {
      "name": "13 » Machine Learning Ethics » CS3244 Machine Learning",
      "provenance": [],
      "collapsed_sections": []
    }
  },
  "cells": [
    {
      "cell_type": "markdown",
      "metadata": {
        "id": "EOG-Q8v7vGGh",
        "colab_type": "text"
      },
      "source": [
        "Available at http://www.comp.nus.edu.sg/~cs3244/1910/13.colab"
      ]
    },
    {
      "cell_type": "markdown",
      "metadata": {
        "id": "DeKMuBl4uxXT",
        "colab_type": "text"
      },
      "source": [
        "![Machine Learning](https://www.comp.nus.edu.sg/~cs3244/1910/img/banner-1910.png)\n",
        "---\n",
        "See **Credits** below for acknowledgements and rights.  For NUS class credit, you'll need to do the corresponding _Assessment_ in [CS3244 in Coursemology](http://coursemology.org/courses/1677) by the respective deadline (as in Coursemology). \n",
        "\n",
        "**You must acknowledge that your submitted Assessment is your independent work, see questions in the Assessment at the end.**\n",
        "\n"
      ]
    },
    {
      "cell_type": "markdown",
      "metadata": {
        "id": "iZ_n0YfHvMaO",
        "colab_type": "text"
      },
      "source": [
        "**Learning Outcomes for this Week** \n",
        "\n",
        "* Understand issues around the use of machine learning and mathematical models;\n",
        "* Recall the three points around the three characteristics a \"Weapon of Math Destruction\" has;\n",
        "* Reflect on these characteristics in your project work."
      ]
    },
    {
      "cell_type": "markdown",
      "metadata": {
        "id": "zOG6Uko1vNYL",
        "colab_type": "text"
      },
      "source": [
        "_Welcome to the Week 13 Python notebook._ This week is perhaps the most important week in your course as we connect our class to the application of ML to the real world.  Machine learned models affect you directly but also in many indirect ways, more numerous than you may imagine.  It is hard to properly ascribe the proper attention we need  to give to the application of ML, as most learners will underestimate the impact that it has on others – especially populations who we (in)advertently do not consider.  This is why the ethical application of machine learning is at the heart of ML.  Although you have likely already had a course on ethics in technology, it is necessary to reinforce those concepts with the slant enabled by ML. \n",
        "\n",
        "Note that this topic has no tutorial in our class but will be an examinable topic for our final assessment."
      ]
    },
    {
      "cell_type": "markdown",
      "metadata": {
        "colab_type": "text",
        "id": "NrXkAoYjeLaB"
      },
      "source": [
        "---\n",
        "# Week 13: Pre-Tutorial Work\n",
        "\n",
        "_N.B. There is only a pre-tutorial notebook for this week.  In this final week, we lighten your load._\n",
        "\n",
        "In this final week, we want you to have more exposure to the risk of using data blindly, and to have more awareness of the bias that machine learning and math can encode if used in an inappropriate manner.  \n",
        "\n",
        "**Min's note**: _This is probably the most important topic in machine learning I could impress upon anyone taking this class.  We can always forget the math and recall algorithms by web search, but how you use data and create meaning from it is a crucial skill that is tremendously magnified by current technology.  We all have to better understand how we collect data, process it to create models, and employ them in real life to help our world, rather than to harm it inadvertently._\n",
        "\n",
        "_It is partially up to us.  If you do end up using machine learning in practice, you must understand the bigger context of these issues, as they will affect the core purpose of what you do and more importantly, **why and how** you do it._\n"
      ]
    },
    {
      "cell_type": "markdown",
      "metadata": {
        "id": "QlSUdxL4XZDU",
        "colab_type": "text"
      },
      "source": [
        "## 1 Weapons of Math Destruction\n",
        "\n",
        "Watch the single Google tech talk video by Cathy O'Neil in the W13 Pre playlist.  It's long and illustrates some key points, but perhaps with [some bias in itself](https://www.amazon.com/gp/customer-reviews/RXBU9LJV75J9Z/ref=cm_cr_arp_d_rvw_ttl?ie=UTF8&ASIN=0553418815); judge for yourself.  There's also the optional talk by Kate Crawford which was one of the NIPS 2017 keynotes (NIPS is the premier Neural Network conference).  Both are great talks and the question sessions of both are worth listening to as well.\n",
        "\n",
        "Cathy discusses the three points of \"WMD\" as part of the mnemonic:\n",
        "\n",
        "* **W**idespread: An automated system is used at a massive scale, systematically affecting many individuals;\n",
        "* **M**ysterious: The automation makes decisions in a opaque \"black-box\" way, unable to be scruntized by the downstream parties it affects;\n",
        "* **D**estructive: The parties affected by the system have no means of giving feedback to improve the system."
      ]
    },
    {
      "cell_type": "markdown",
      "metadata": {
        "id": "laK71DLLZBab",
        "colab_type": "text"
      },
      "source": [
        "Cathy discusses a few examples of WMDs in her lecture.  See whether you can recall some details of these points in her examples.  It's quiz time!"
      ]
    },
    {
      "cell_type": "markdown",
      "metadata": {
        "id": "JobQ7z2COLi5",
        "colab_type": "text"
      },
      "source": [
        "**Your Turn (Question 1)**: What was the gist of the second generation teaching assessment tool that was mentioned by Cathy?\n",
        "\n",
        "_Choose from: Peer Teaching Review, Students' Standardized Test Scores, Improvement over last year's Students' Standardized Test Scores, None of the above_"
      ]
    },
    {
      "cell_type": "markdown",
      "metadata": {
        "id": "KZUovOsSObHb",
        "colab_type": "text"
      },
      "source": [
        "**Your Turn (Question 2)**: Why is it problematic in Cathy's opinion?\n",
        "_Choose from: There is insufficient data to evaluate schools, There is insufficient data to evaluate individual teachers, Systematic problems with teachers cheating, The model is overly complicated, There's no problem -- the model works much better than the first_"
      ]
    },
    {
      "cell_type": "markdown",
      "metadata": {
        "id": "pfGFZOdlOrVo",
        "colab_type": "text"
      },
      "source": [
        "**Your Turn (Question 3)**: Singapore's National Pledge constitutionalizes the judiciary as treating Singaporeans fairly 'regardless of race, language or religion'.  How should that affect machine learning models used in public services?\n",
        "\n",
        "_Replace with your answer_"
      ]
    },
    {
      "cell_type": "markdown",
      "metadata": {
        "id": "yh7b8uLwPVFn",
        "colab_type": "text"
      },
      "source": [
        "**Your Turn (Question 4)**: A person's ethnicity (race) is correlated with many preferences and characteristics.  Give an example of a data field typically found on résumés would perhaps (unknowingly) bias a reviewer.\n",
        "\n",
        "_Replace with your answer_"
      ]
    },
    {
      "cell_type": "markdown",
      "metadata": {
        "id": "SW3j84tFWZA6",
        "colab_type": "text"
      },
      "source": [
        "**Your Turn (Question 5)**: How might an employer who wishes to qualify applicants \"regardless of race, language or religion\" act, according to Cathy?\n",
        "\n",
        "_Choose From: Agree on and measure only the specific qualifications needed for the job, Remove all variables related to the sensitive variables, Decorrelated variables related to the three sensitive variables, Do not use automated systems as they codify human bias_"
      ]
    },
    {
      "cell_type": "markdown",
      "metadata": {
        "id": "3h-J6zF6WvT0",
        "colab_type": "text"
      },
      "source": [
        "Great!  Nice job with the quiz.  Next, read this post from _Popular Science_ discussing Google's proprietary search algorithm: https://www.popsci.com/how-does-google-search-work .  Then answer the following question:"
      ]
    },
    {
      "cell_type": "markdown",
      "metadata": {
        "id": "PU8pII-LWxFR",
        "colab_type": "text"
      },
      "source": [
        "**Your Turn (Question 6)**: The author gave a few reasons why Google keeps its search algorithm proprietary.  In contrast, Cathy stated that WMDs need to be transparent and allow users to understand how they can give feedback to the system.  Explain this contradiction.\n",
        "\n",
        "_Replace with your answer_"
      ]
    },
    {
      "cell_type": "markdown",
      "metadata": {
        "id": "9XWTTvKvY6wg",
        "colab_type": "text"
      },
      "source": [
        "## 2 Ethics Exercise\n",
        "\n",
        "As we don't have time for a tutorial on Ethics, we'll do a _self-guided reflection exercise_ for yourself.  Review the slides and video lectures on the issues underlying several key issues related to machine learning and ethics:\n",
        "\n",
        "1. Data gathering\n",
        "2. Data bias\n",
        "3. Privacy by association\n",
        "4. Platform leverage\n",
        "5. Confirmation bias\n",
        "6. Trolley problem\n",
        "7. Societal use\n"
      ]
    },
    {
      "cell_type": "markdown",
      "metadata": {
        "id": "Xoho2WxHaGH-",
        "colab_type": "text"
      },
      "source": [
        "**Your Turn (Question 7)**: Pick one of the issues above, linking it back to machine learning or your own project work in the course.\n",
        "\n",
        "Illustrate a dilemma that you might encounter that takes the form of the issues.\n",
        "\n",
        "Propose rules that you think a data scientist should follow when encountering the dilemma involving the issues.\n",
        "\n",
        "_Replace with your two-part answer: on the dilemma, and on the rules._"
      ]
    },
    {
      "cell_type": "markdown",
      "metadata": {
        "id": "bp3bmECbW5bh",
        "colab_type": "text"
      },
      "source": [
        "## 3 Prep for Bias Section \n",
        "\n",
        "Ok, we're almost done.  Two last questions, to prepare for the post- video.  These are easy-peasy.  First, take a look at the picture below.  \n",
        "\n",
        "<div align=\"center\">\n",
        "<img src=\"https://www.comp.nus.edu.sg/~cs3244/1910/img/13.pic1.png\" width=\"50%\"/>\n",
        "</div>\n",
        "(Slide Credit: Margaret Michell, Google.  Used with express permission.)"
      ]
    },
    {
      "cell_type": "markdown",
      "metadata": {
        "id": "TSLIw_ilXOmq",
        "colab_type": "text"
      },
      "source": [
        "**Your Turn (Question 8)**: Describe what you see in the above image with a short phrase.\n",
        "\n",
        "_Replace with your answer_"
      ]
    },
    {
      "cell_type": "markdown",
      "metadata": {
        "id": "34JGjcnXalPb",
        "colab_type": "text"
      },
      "source": [
        "The second one is also fun.  It's a riddle.\n",
        "\n",
        "A man and his son are in a terrible accident and are rushed to the hospital in critical care.  The doctor looks at the boy and exclaims \"I can't operate on this boy, he's my son!  How could this be?\"\n",
        "\n",
        "<div align=\"center\">\n",
        "<img src=\"https://www.comp.nus.edu.sg/~cs3244/1910/img/13.pic2.png\" width=\"50%\"/>\n",
        "</div>\n",
        "(Image Credit: Margaret Michell, Google.  Used with express permission.)"
      ]
    },
    {
      "cell_type": "markdown",
      "metadata": {
        "id": "MPJWgvNla2gx",
        "colab_type": "text"
      },
      "source": [
        "**Your Turn (Question 9)**: Explain the riddle.  How could this be?\n",
        "\n",
        "_Replace with your answer_"
      ]
    },
    {
      "cell_type": "markdown",
      "metadata": {
        "id": "JnMJ4gL9a9IQ",
        "colab_type": "text"
      },
      "source": [
        "# Epilogue \n",
        "\n",
        "That's all for all of our Colab notebooks for this class.  We hope you have connected better with not just the theory, but also the practice through your notebooks and project work.  \n",
        "\n",
        "Finally, keep learning!  Failure just means your loss function still has parameters to tune better.  Keep taking those steps in the right (estimated) direction!"
      ]
    },
    {
      "cell_type": "markdown",
      "metadata": {
        "colab_type": "text",
        "id": "romwCqYSNCIW"
      },
      "source": [
        "---\n",
        "# Credits\n",
        "\n",
        "Authored by [Min-Yen Kan](http://www.comp.nus.edu.sg/~kanmy) (2018, 2019), affiliated with [WING](http://wing.comp.nus.edu.sg), [NUS School of Computing](http://www.comp.nus.edu.sg) and [ALSET](http://www.nus.edu.sg/alset).\n",
        "Licensed as: [Creative Commons Attribution 4.0 International](https://creativecommons.org/licenses/by/4.0/ ) (CC BY 4.0).\n"
      ]
    }
  ]
}